{
 "cells": [
  {
   "cell_type": "markdown",
   "id": "364828a0",
   "metadata": {},
   "source": [
    "Estrutura While\n",
    "\n",
    "Funcionamento :\n",
    "    \n",
    "Usamos o while quando queremos repetir um código de forma indeterminada até uma condição se tornar verdadeira/falsa\n",
    "\n",
    "A lógica é: enquanto a condição for verdadeira, o while executa o código. Assim que ela terminar de ser verdadeira, o código sãi do while.\n",
    "\n",
    "Exemplo1: quando criamos automações na internet\n",
    "Exemplo2: Crie um programa que funcione como o registro de vendas de uma empresa\n",
    "\n",
    "Nele, a pessoa deve inserir o nome do produto e o produto deve ser adicionado na lista de venda. Enquanto o usuário não encerrar o programa, significa que ele está registrando novos produtos, então o programa deve permitir a entrada de quantos produtos o usuário quiser. "
   ]
  },
  {
   "cell_type": "code",
   "execution_count": null,
   "id": "195ee174",
   "metadata": {},
   "outputs": [],
   "source": [
    "produto = input('Registre um produto, Para cancelar o registro de um novo produto, basta apertar enter com a caixa vazia')\n",
    "vendas = []\n",
    "\n",
    "#crie o programa \n",
    "\n",
    "while venda <> '':\n",
    "    vendas.append(venda)\n",
    "    venda = input('Registre um produto, Para cancelar o registro de um novo produto, basta apertar enter com a caixa vazia')\n",
    "\n",
    "print('Registro finalizado. Os produtos cadastrados foram : {}'.format(produtos))"
   ]
  },
  {
   "cell_type": "markdown",
   "id": "8989b43f",
   "metadata": {},
   "source": [
    "Cuidado com o while -> Loop Infinito\n",
    "\n",
    "Sempre que for usar o comando while, lembre-se de ter certeza que o programa vai terminar em algum momento\n",
    "\n",
    "Digamos que temos uma lista de vendedores e as quantidades vendidas e queremos identificar todos os vendedores que bateram a meta de 50 vendas "
   ]
  },
  {
   "cell_type": "code",
   "execution_count": 3,
   "id": "53a8ed86",
   "metadata": {},
   "outputs": [
    {
     "name": "stdout",
     "output_type": "stream",
     "text": [
      "maria bateu a meta. Vendas: 941\n",
      "jose bateu a meta. Vendas: 852\n",
      "antonio bateu a meta. Vendas: 783\n",
      "joao bateu a meta. Vendas: 714\n",
      "francisco bateu a meta. Vendas: 697\n",
      "ana bateu a meta. Vendas: 686\n",
      "luiz bateu a meta. Vendas: 685\n",
      "paulo bateu a meta. Vendas: 670\n",
      "carlos bateu a meta. Vendas: 631\n",
      "manoel bateu a meta. Vendas: 453\n",
      "pedro bateu a meta. Vendas: 386\n",
      "francisco bateu a meta. Vendas: 371\n"
     ]
    },
    {
     "ename": "IndexError",
     "evalue": "list index out of range",
     "output_type": "error",
     "traceback": [
      "\u001b[1;31m---------------------------------------------------------------------------\u001b[0m",
      "\u001b[1;31mIndexError\u001b[0m                                Traceback (most recent call last)",
      "\u001b[1;32m<ipython-input-3-0b2bfaaa9af9>\u001b[0m in \u001b[0;36m<module>\u001b[1;34m\u001b[0m\n\u001b[0;32m      7\u001b[0m \u001b[1;33m\u001b[0m\u001b[0m\n\u001b[0;32m      8\u001b[0m \u001b[1;32mwhile\u001b[0m \u001b[0mvendas\u001b[0m\u001b[1;33m[\u001b[0m\u001b[0mi\u001b[0m\u001b[1;33m]\u001b[0m \u001b[1;33m>\u001b[0m \u001b[1;36m50\u001b[0m\u001b[1;33m:\u001b[0m\u001b[1;33m\u001b[0m\u001b[1;33m\u001b[0m\u001b[0m\n\u001b[1;32m----> 9\u001b[1;33m     \u001b[0mprint\u001b[0m\u001b[1;33m(\u001b[0m\u001b[1;34m'{} bateu a meta. Vendas: {}'\u001b[0m\u001b[1;33m.\u001b[0m\u001b[0mformat\u001b[0m\u001b[1;33m(\u001b[0m\u001b[0mvendedores\u001b[0m\u001b[1;33m[\u001b[0m\u001b[0mi\u001b[0m\u001b[1;33m]\u001b[0m\u001b[1;33m,\u001b[0m \u001b[0mvendas\u001b[0m\u001b[1;33m[\u001b[0m\u001b[0mi\u001b[0m\u001b[1;33m]\u001b[0m\u001b[1;33m)\u001b[0m\u001b[1;33m)\u001b[0m\u001b[1;33m\u001b[0m\u001b[1;33m\u001b[0m\u001b[0m\n\u001b[0m\u001b[0;32m     10\u001b[0m     \u001b[0mi\u001b[0m \u001b[1;33m+=\u001b[0m \u001b[1;36m1\u001b[0m\u001b[1;33m\u001b[0m\u001b[1;33m\u001b[0m\u001b[0m\n",
      "\u001b[1;31mIndexError\u001b[0m: list index out of range"
     ]
    }
   ],
   "source": [
    "vendas = [941, 852, 783, 714, 697, 686, 685, 670, 631, 453, 386, 371, 294, 269, 259, 218, 208, 163, 125, 102, 87, 47, 7]\n",
    "vendedores = ['maria', 'jose','antonio','joao','francisco', 'ana', 'luiz','paulo','carlos', 'manoel','pedro','francisco']\n",
    "\n",
    "meta = 50\n",
    "\n",
    "i =0 \n",
    "\n",
    "while vendas[i] > 50:\n",
    "    print('{} bateu a meta. Vendas: {}'.format(vendedores[i], vendas[i]))\n",
    "    i += 1"
   ]
  },
  {
   "cell_type": "markdown",
   "id": "652e25af",
   "metadata": {},
   "source": [
    "Exercicios \n",
    "\n",
    "Input até o usuário parar\n",
    "\n",
    "Vamos criar um sistema de vendas. Nosso programa deve registrar os produtos e as quantidades (2 inputs) e adicionar em uma lista\n",
    "\n",
    "O programa deve continuar rodando até o input ser vazio, ou seja, o usuário apertar o enter sem digitar nenhum produto ou quantidade. \n",
    "\n",
    "Ao final do programa, ele deve printar todos os produtos e quantidades vendidas.\n",
    "\n",
    "Caso queira, para o print ficar mais visual, pode uar o join para cada item ser printado em uma linha."
   ]
  },
  {
   "cell_type": "code",
   "execution_count": 7,
   "id": "b4452ec4",
   "metadata": {},
   "outputs": [
    {
     "name": "stdout",
     "output_type": "stream",
     "text": [
      "Qual o produtolaranja\n",
      "Qual a quantidade4\n",
      "Qual o produto\n",
      "[['maca', 5], ['banana', 15], ['azeite', 1], ['vinho', 3], ['laranja', 4]]\n"
     ]
    }
   ],
   "source": [
    "vendas = [\n",
    "    ['maca', 5],\n",
    "    ['banana', 15],\n",
    "    ['azeite', 1],\n",
    "    ['vinho', 3],\n",
    "]\n",
    "\n",
    "while True:\n",
    "    \n",
    "    produto = input('Qual o produto')\n",
    "    if not produto:\n",
    "        break\n",
    "    qtde = int(input('Qual a quantidade'))\n",
    "    vendas.append([produto, qtde])\n",
    "\n",
    "print(vendas)"
   ]
  },
  {
   "cell_type": "code",
   "execution_count": null,
   "id": "044406c5",
   "metadata": {},
   "outputs": [],
   "source": []
  }
 ],
 "metadata": {
  "kernelspec": {
   "display_name": "Python 3",
   "language": "python",
   "name": "python3"
  },
  "language_info": {
   "codemirror_mode": {
    "name": "ipython",
    "version": 3
   },
   "file_extension": ".py",
   "mimetype": "text/x-python",
   "name": "python",
   "nbconvert_exporter": "python",
   "pygments_lexer": "ipython3",
   "version": "3.8.8"
  }
 },
 "nbformat": 4,
 "nbformat_minor": 5
}
